{
  "nbformat": 4,
  "nbformat_minor": 0,
  "metadata": {
    "colab": {
      "provenance": [],
      "authorship_tag": "ABX9TyNSeS/d2P5m9bswRUS8d28k",
      "include_colab_link": true
    },
    "kernelspec": {
      "name": "python3",
      "display_name": "Python 3"
    },
    "language_info": {
      "name": "python"
    }
  },
  "cells": [
    {
      "cell_type": "markdown",
      "metadata": {
        "id": "view-in-github",
        "colab_type": "text"
      },
      "source": [
        "<a href=\"https://colab.research.google.com/github/newmantic/scenario_analysis/blob/main/scenario_analysis.ipynb\" target=\"_parent\"><img src=\"https://colab.research.google.com/assets/colab-badge.svg\" alt=\"Open In Colab\"/></a>"
      ]
    },
    {
      "cell_type": "code",
      "execution_count": 1,
      "metadata": {
        "id": "A9FisAsI7_9k"
      },
      "outputs": [],
      "source": [
        "import numpy as np\n",
        "import pandas as pd"
      ]
    },
    {
      "cell_type": "code",
      "source": [
        "class Portfolio:\n",
        "    def __init__(self, assets, weights):\n",
        "        self.assets = assets\n",
        "        self.weights = weights\n",
        "\n",
        "    def expected_return(self, returns):\n",
        "        return np.dot(returns, self.weights)\n",
        "\n",
        "    def portfolio_variance(self, cov_matrix):\n",
        "        return np.dot(self.weights.T, np.dot(cov_matrix, self.weights))\n",
        "\n",
        "    def portfolio_std_dev(self, cov_matrix):\n",
        "        return np.sqrt(self.portfolio_variance(cov_matrix))"
      ],
      "metadata": {
        "id": "h5LWNkrB8UQJ"
      },
      "execution_count": 2,
      "outputs": []
    },
    {
      "cell_type": "code",
      "source": [
        "def scenario_analysis(portfolio, scenarios):\n",
        "    results = []\n",
        "\n",
        "    for scenario in scenarios:\n",
        "        scenario_return = portfolio.expected_return(scenario['returns'])\n",
        "        scenario_variance = portfolio.portfolio_variance(scenario['cov_matrix'])\n",
        "        scenario_std_dev = portfolio.portfolio_std_dev(scenario['cov_matrix'])\n",
        "\n",
        "        results.append({\n",
        "            'Scenario': scenario['name'],\n",
        "            'Expected Return': scenario_return,\n",
        "            'Portfolio Variance': scenario_variance,\n",
        "            'Portfolio Std Dev': scenario_std_dev\n",
        "        })\n",
        "\n",
        "    return pd.DataFrame(results)"
      ],
      "metadata": {
        "id": "DEJvMiPD8ZCw"
      },
      "execution_count": 3,
      "outputs": []
    },
    {
      "cell_type": "code",
      "source": [
        "# Define assets in the portfolio and their respective weights\n",
        "assets = ['Stock A', 'Stock B', 'Bond A']\n",
        "weights = np.array([0.5, 0.3, 0.2])\n",
        "\n",
        "# Instantiate the Portfolio object\n",
        "portfolio = Portfolio(assets, weights)\n",
        "\n",
        "# Define different scenarios\n",
        "scenarios = [\n",
        "    {\n",
        "        'name': 'Bull Market',\n",
        "        'returns': np.array([0.15, 0.10, 0.03]),\n",
        "        'cov_matrix': np.array([[0.10, 0.02, 0.01],\n",
        "                                [0.02, 0.08, 0.01],\n",
        "                                [0.01, 0.01, 0.02]])\n",
        "    },\n",
        "    {\n",
        "        'name': 'Bear Market',\n",
        "        'returns': np.array([-0.10, -0.05, 0.02]),\n",
        "        'cov_matrix': np.array([[0.15, 0.03, 0.01],\n",
        "                                [0.03, 0.10, 0.01],\n",
        "                                [0.01, 0.01, 0.02]])\n",
        "    },\n",
        "    {\n",
        "        'name': 'Stagnant Market',\n",
        "        'returns': np.array([0.02, 0.01, 0.02]),\n",
        "        'cov_matrix': np.array([[0.05, 0.01, 0.01],\n",
        "                                [0.01, 0.04, 0.01],\n",
        "                                [0.01, 0.01, 0.02]])\n",
        "    }\n",
        "]\n",
        "\n",
        "# Perform scenario analysis\n",
        "results = scenario_analysis(portfolio, scenarios)\n",
        "\n",
        "# Display the results\n",
        "print(results)"
      ],
      "metadata": {
        "colab": {
          "base_uri": "https://localhost:8080/"
        },
        "id": "G99TRUKR8bfR",
        "outputId": "a320ff29-a350-41a7-a76e-a37841496427"
      },
      "execution_count": 4,
      "outputs": [
        {
          "output_type": "stream",
          "name": "stdout",
          "text": [
            "          Scenario  Expected Return  Portfolio Variance  Portfolio Std Dev\n",
            "0      Bull Market            0.111              0.0422           0.205426\n",
            "1      Bear Market           -0.061              0.0595           0.243926\n",
            "2  Stagnant Market            0.017              0.0231           0.151987\n"
          ]
        }
      ]
    }
  ]
}